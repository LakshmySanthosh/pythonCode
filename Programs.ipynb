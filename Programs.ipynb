{
 "cells": [
  {
   "cell_type": "markdown",
   "id": "55064b1e",
   "metadata": {},
   "source": [
    "### Program to find duplicate elements in a given array"
   ]
  },
  {
   "cell_type": "code",
   "execution_count": 13,
   "id": "859f10ab",
   "metadata": {},
   "outputs": [
    {
     "name": "stdout",
     "output_type": "stream",
     "text": [
      "Enter the number of elements: 6\n",
      "1\n",
      "4\n",
      "3\n",
      "1\n",
      "2\n",
      "4\n",
      "The array is: \n",
      "[1, 4, 3, 1, 2, 4]\n",
      "The repeated elements are: \n",
      "[1, 4]\n"
     ]
    }
   ],
   "source": [
    "#Program to find duplicate elements in a given array\n",
    "a1=[]\n",
    "a2=[]\n",
    "n=int(input(\"Enter the number of elements: \"))\n",
    "for i in range(0,n):\n",
    "    a=int(input())\n",
    "    a1.append(a)\n",
    "print(\"The array is: \")\n",
    "print(a1)\n",
    "for i in range(0,n):\n",
    "    for j in range(i+1,n):\n",
    "        if(a1[i]==a1[j]):\n",
    "            a2.append(a1[j])\n",
    "if len(a2)>1:\n",
    "    print(\"The repeated elements are: \")\n",
    "    print(a2)\n",
    "elif len(a2)==1:\n",
    "    print(\"The repeated element is: \")\n",
    "    print(a2)\n",
    "else:\n",
    "    print(\"There are no repeated elements\")"
   ]
  },
  {
   "cell_type": "markdown",
   "id": "453d8ffd",
   "metadata": {},
   "source": [
    "### Program to find the pair of highest product from a given array of integers"
   ]
  },
  {
   "cell_type": "code",
   "execution_count": 27,
   "id": "89e0d936",
   "metadata": {},
   "outputs": [
    {
     "name": "stdout",
     "output_type": "stream",
     "text": [
      "Enter the number of elements: 8\n",
      "11\n",
      "2\n",
      "6\n",
      "9\n",
      "3\n",
      "88\n",
      "3\n",
      "8\n",
      "The highest product is:\n",
      "968\n",
      "The pair of integers giving the highest product are:\n",
      "11 88\n"
     ]
    }
   ],
   "source": [
    "#Program to find the pair of highest product from a given array of integers\n",
    "a1=[]\n",
    "n=int(input(\"Enter the number of elements: \"))\n",
    "for i in range(0,n):\n",
    "    m=int(input())\n",
    "    a1.append(m)\n",
    "num1=a1[0]\n",
    "num2=a1[1]\n",
    "for i in range(0,len(a1)):\n",
    "    for j in range(i+1,len(a1)):\n",
    "        if a1[i]*a1[j]>num1*num2:\n",
    "            num1=a1[i]\n",
    "            num2=a1[j]\n",
    "highest_sum=num1*num2\n",
    "print(\"The highest product is:\")\n",
    "print(highest_sum)\n",
    "print(\"The pair of integers giving the highest product are:\")\n",
    "print(num1,num2)"
   ]
  },
  {
   "cell_type": "markdown",
   "id": "7dd3dc4b",
   "metadata": {},
   "source": [
    "### Linear Search"
   ]
  },
  {
   "cell_type": "code",
   "execution_count": 18,
   "id": "e59f2657",
   "metadata": {},
   "outputs": [
    {
     "name": "stdout",
     "output_type": "stream",
     "text": [
      "Enter the number of elements of the array: 5\n",
      "Enter the elements: 34\n",
      "Enter the elements: 6\n",
      "Enter the elements: 3\n",
      "Enter the elements: 9\n",
      "Enter the elements: 33\n",
      "The array is: \n",
      "[34, 6, 3, 9, 33]\n",
      "Enter the element to search: 9\n",
      "The element is found at position 4\n"
     ]
    }
   ],
   "source": [
    "#Linear search\n",
    "\n",
    "#array input\n",
    "a1=[]\n",
    "n=int(input(\"Enter the number of elements of the array: \"))\n",
    "for i in range(0,n):\n",
    "    a=int(input(\"Enter the elements: \"))\n",
    "    a1.append(a)\n",
    "print(\"The array is: \")\n",
    "print(a1)\n",
    "\n",
    "#searching for the element\n",
    "m=int(input(\"Enter the element to search: \"))\n",
    "for i in range(0,len(a1)):\n",
    "    if m==a1[i]:\n",
    "        f=1\n",
    "        break;\n",
    "    else: \n",
    "        f=0\n",
    "        \n",
    "#printing output\n",
    "if (f==1):\n",
    "    print(f\"The element is found at position {i+1}\")\n",
    "\n",
    "else:\n",
    "    print(\"The element is not found\")\n"
   ]
  },
  {
   "cell_type": "markdown",
   "id": "aa71044f",
   "metadata": {},
   "source": [
    "### Binary search"
   ]
  },
  {
   "cell_type": "code",
   "execution_count": null,
   "id": "400025e9",
   "metadata": {},
   "outputs": [],
   "source": [
    "#Binary search\n",
    "a1=[]\n",
    "n=int(input(\"Enter the number of elements of the array: \"))\n",
    "for i in range(0,n):\n",
    "    a=int(input(\"Enter the elements in ascending order: \"))\n",
    "    a1.append(a)\n",
    "print(\"The array is: \")\n",
    "print(a1)\n"
   ]
  },
  {
   "cell_type": "markdown",
   "id": "4e379649",
   "metadata": {},
   "source": [
    "### Bubble Sort\n",
    "\n"
   ]
  },
  {
   "cell_type": "code",
   "execution_count": 17,
   "id": "2076c5b9",
   "metadata": {},
   "outputs": [
    {
     "name": "stdout",
     "output_type": "stream",
     "text": [
      "Enter the number of elements: 5\n",
      "34\n",
      "5\n",
      "3\n",
      "5\n",
      "7\n",
      "The array is: [34, 5, 3, 5, 7]\n",
      "Sorted array is: [3, 5, 5, 7, 34]\n"
     ]
    }
   ],
   "source": [
    " \n",
    "def bubbleSort(arr):\n",
    "    n = len(arr)\n",
    "    for i in range(n):\n",
    "        for j in range(0, n-i-1):\n",
    "            if arr[j] > arr[j+1]:\n",
    "                arr[j], arr[j+1] = arr[j+1], arr[j]\n",
    " \n",
    "a1=[]\n",
    "n=int(input(\"Enter the number of elements: \"))\n",
    "for i in range(0,n):\n",
    "    a=int(input())\n",
    "    a1.append(a)\n",
    "print(f\"The array is: {a1}\")\n",
    "bubbleSort(a1)\n",
    "print(f\"Sorted array is: {a1}\")"
   ]
  },
  {
   "cell_type": "code",
   "execution_count": null,
   "id": "e7dbcbfa",
   "metadata": {},
   "outputs": [],
   "source": []
  }
 ],
 "metadata": {
  "kernelspec": {
   "display_name": "Python 3 (ipykernel)",
   "language": "python",
   "name": "python3"
  },
  "language_info": {
   "codemirror_mode": {
    "name": "ipython",
    "version": 3
   },
   "file_extension": ".py",
   "mimetype": "text/x-python",
   "name": "python",
   "nbconvert_exporter": "python",
   "pygments_lexer": "ipython3",
   "version": "3.9.13"
  }
 },
 "nbformat": 4,
 "nbformat_minor": 5
}
