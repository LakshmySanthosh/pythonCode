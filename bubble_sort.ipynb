{
 "cells": [
  {
   "cell_type": "code",
   "execution_count": 1,
   "id": "a1798ca5",
   "metadata": {},
   "outputs": [
    {
     "name": "stdout",
     "output_type": "stream",
     "text": [
      "Enter the number of elements: 5\n",
      "1\n",
      "2\n",
      "3\n",
      "44\n",
      "5\n",
      "The array is: [1, 2, 3, 44, 5]\n",
      "Sorted using bubble sort is: [1, 2, 3, 5, 44]\n"
     ]
    }
   ],
   "source": [
    "#Bubble sort\n",
    "def bubbleSort(arr):\n",
    "    n = len(arr)\n",
    "    for i in range(n):\n",
    "        for j in range(0, n-i-1):\n",
    "            if arr[j] > arr[j+1]:\n",
    "                arr[j], arr[j+1] = arr[j+1], arr[j]\n",
    " \n",
    "a1=[]\n",
    "n=int(input(\"Enter the number of elements: \"))\n",
    "for i in range(0,n):\n",
    "    a=int(input())\n",
    "    a1.append(a)\n",
    "print(f\"The array is: {a1}\")\n",
    "bubbleSort(a1)\n",
    "print(f\"Sorted using bubble sort is: {a1}\")"
   ]
  }
 ],
 "metadata": {
  "kernelspec": {
   "display_name": "Python 3 (ipykernel)",
   "language": "python",
   "name": "python3"
  },
  "language_info": {
   "codemirror_mode": {
    "name": "ipython",
    "version": 3
   },
   "file_extension": ".py",
   "mimetype": "text/x-python",
   "name": "python",
   "nbconvert_exporter": "python",
   "pygments_lexer": "ipython3",
   "version": "3.9.13"
  }
 },
 "nbformat": 4,
 "nbformat_minor": 5
}
