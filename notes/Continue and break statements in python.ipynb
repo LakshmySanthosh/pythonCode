{
 "cells": [
  {
   "cell_type": "markdown",
   "id": "4e1ce872",
   "metadata": {},
   "source": [
    "# Continue and break statements in python"
   ]
  },
  {
   "cell_type": "markdown",
   "id": "34b6c2c7",
   "metadata": {},
   "source": [
    "## Continue Statement\n",
    "- continue is used inside a loop (for loop, while loop) to skip the remaining statements in the current iteration and move on to the next iteration.\n",
    "- When continue is executed inside a loop, the remaining statements in the loop body are skipped and the next iteration of the loop is started.\n",
    "- The loop continues until all iterations are completed, or until a break statement is executed.\n",
    "- continue is often used to skip over certain items in a loop that don't meet a certain condition."
   ]
  },
  {
   "cell_type": "code",
   "execution_count": 3,
   "id": "f7baebc3",
   "metadata": {},
   "outputs": [
    {
     "name": "stdout",
     "output_type": "stream",
     "text": [
      "1\n",
      "3\n",
      "5\n",
      "7\n",
      "9\n"
     ]
    }
   ],
   "source": [
    "#here continue statement is used to skip the portion after the if loop when i is even, so only odd numbers are getting printed\n",
    "for i in range(10):\n",
    "    if i%2==0:\n",
    "        continue\n",
    "    print(i)"
   ]
  },
  {
   "cell_type": "markdown",
   "id": "2ad75d2c",
   "metadata": {},
   "source": [
    "## Break Statement\n",
    "- break is used inside a loop (for loop, while loop) to terminate the loop and exit out of it completely.\n",
    "- When break is executed inside a loop, the loop is terminated and the program continues with the statement immediately following the loop.\n",
    "- break is often used to exit a loop when a certain condition is met."
   ]
  },
  {
   "cell_type": "code",
   "execution_count": 4,
   "id": "efedbf9d",
   "metadata": {},
   "outputs": [
    {
     "name": "stdout",
     "output_type": "stream",
     "text": [
      "0\n",
      "1\n",
      "2\n",
      "3\n",
      "4\n"
     ]
    }
   ],
   "source": [
    "#here break statement is used to exit the loop when i is 5, so only numbers before 5 are getting printed\n",
    "for i in range(10):\n",
    "    if i==5:\n",
    "        break\n",
    "    print(i)"
   ]
  }
 ],
 "metadata": {
  "kernelspec": {
   "display_name": "Python 3 (ipykernel)",
   "language": "python",
   "name": "python3"
  },
  "language_info": {
   "codemirror_mode": {
    "name": "ipython",
    "version": 3
   },
   "file_extension": ".py",
   "mimetype": "text/x-python",
   "name": "python",
   "nbconvert_exporter": "python",
   "pygments_lexer": "ipython3",
   "version": "3.9.13"
  }
 },
 "nbformat": 4,
 "nbformat_minor": 5
}
