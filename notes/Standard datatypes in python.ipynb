{
 "cells": [
  {
   "cell_type": "markdown",
   "id": "57ab61b1",
   "metadata": {},
   "source": [
    "# Standard datatypes in python"
   ]
  },
  {
   "cell_type": "markdown",
   "id": "fcc0ca08",
   "metadata": {},
   "source": [
    "## 1. Numeric\n",
    "- Represents data that has a numeric value\n",
    "- can be int, float, complex"
   ]
  },
  {
   "cell_type": "markdown",
   "id": "0382b1a1",
   "metadata": {},
   "source": [
    "### Integers\n",
    "- positive and negative whole numbers.\n",
    "- can have any length"
   ]
  },
  {
   "cell_type": "code",
   "execution_count": 1,
   "id": "b884dac4",
   "metadata": {},
   "outputs": [
    {
     "name": "stdout",
     "output_type": "stream",
     "text": [
      "199 is of type <class 'int'>\n"
     ]
    }
   ],
   "source": [
    "b = 199\n",
    "print(b, \"is of type\", type(b))"
   ]
  },
  {
   "cell_type": "markdown",
   "id": "7be0ed09",
   "metadata": {},
   "source": [
    "### Float\n",
    "- true number with floating point representation\n",
    "- numbers with decimal points"
   ]
  },
  {
   "cell_type": "code",
   "execution_count": 2,
   "id": "62787c5c",
   "metadata": {},
   "outputs": [
    {
     "name": "stdout",
     "output_type": "stream",
     "text": [
      "19.3 is of type <class 'float'>\n"
     ]
    }
   ],
   "source": [
    "b = 19.3\n",
    "print(b, \"is of type\", type(b))"
   ]
  },
  {
   "cell_type": "markdown",
   "id": "b19b8d93",
   "metadata": {},
   "source": [
    "### Complex\n",
    "- complex numbers comes under this\n",
    "- it is written as (real part)+ (imaginary part)j"
   ]
  },
  {
   "cell_type": "code",
   "execution_count": 3,
   "id": "19b1d174",
   "metadata": {},
   "outputs": [
    {
     "name": "stdout",
     "output_type": "stream",
     "text": [
      "(7+3j) is of type <class 'complex'>\n"
     ]
    }
   ],
   "source": [
    "b = 7+3j\n",
    "print(b, \"is of type\", type(b))"
   ]
  },
  {
   "cell_type": "markdown",
   "id": "f25fb9a0",
   "metadata": {},
   "source": [
    "## 2. String\n",
    "- Sequence of unicode characters\n",
    "- one or more characters put inside a single, double or triple quote\n",
    "- represented in str class\n",
    "- we can perform certain operations in string like concatenation, slicing and repetition"
   ]
  },
  {
   "cell_type": "code",
   "execution_count": 13,
   "id": "6b74f867",
   "metadata": {},
   "outputs": [
    {
     "name": "stdout",
     "output_type": "stream",
     "text": [
      "Hello World  is of type <class 'str'> \n",
      "\n",
      "concatenation:  Hello World Today is monday \n",
      "\n",
      "slicing:  Hello \n",
      "\n",
      "repetition:  Hello World Hello World Hello World \n"
     ]
    }
   ],
   "source": [
    "string1 =  'Hello World '\n",
    "string2 = 'Today is monday'\n",
    "print(string1,\"is of type\",type(string1),\"\\n\")\n",
    "\n",
    "#concatenation: process of joining two strings\n",
    "string3 = string1+string2\n",
    "print(\"concatenation: \",string3,\"\\n\")\n",
    "\n",
    "#slicing: process of cutting the string according to our need. We can take any part of the string\n",
    "string4 = string1[0:5]\n",
    "print(\"slicing: \",string4,\"\\n\")\n",
    "\n",
    "#repetition: repeating a string a number of times\n",
    "string5 = string1*3\n",
    "print(\"repetition: \",string5)"
   ]
  },
  {
   "cell_type": "markdown",
   "id": "622f33d3",
   "metadata": {},
   "source": [
    "## 3. List\n",
    "- Formed by placing items inside square brackets[], sepearted by commas\n",
    "- can have objects of same or different datatypes\n",
    "- can be modified(mutable)"
   ]
  },
  {
   "cell_type": "code",
   "execution_count": 21,
   "id": "1fe9cc40",
   "metadata": {},
   "outputs": [
    {
     "name": "stdout",
     "output_type": "stream",
     "text": [
      "[3, 8, 7.2, 'Hello'] is of type <class 'list'> \n",
      "\n",
      "List[2] =  7.2 \n",
      "\n",
      "List[1:3] =  [8, 7.2] \n",
      "\n",
      "[3, 8, 7.2, 'World']\n"
     ]
    }
   ],
   "source": [
    "List = [3,8,7.2,\"Hello\"]\n",
    "\n",
    "print(List,\"is of type\",type(List),\"\\n\")\n",
    "\n",
    "print(\"List[2] = \", List[2],'\\n')\n",
    "\n",
    "print(\"List[1:3] = \", List[1:3],'\\n')\n",
    "\n",
    "#Updating the list: we can update the list.\n",
    "\n",
    "List[3] = \"World\"\n",
    "#If we print the whole list, we can see the updated list.\n",
    "print(List)"
   ]
  },
  {
   "cell_type": "markdown",
   "id": "c712c3f6",
   "metadata": {},
   "source": [
    "## 4. Tuple\n",
    "- ordered collection of python objects\n",
    "- similar to list\n",
    "- formed by placing objects inside (), seperated by commas\n",
    "- can have objects of same or different datatypes\n",
    "- cannot be modified(immutable)"
   ]
  },
  {
   "cell_type": "code",
   "execution_count": 22,
   "id": "b3df8f76",
   "metadata": {},
   "outputs": [
    {
     "name": "stdout",
     "output_type": "stream",
     "text": [
      "(3, 8, 7.2, 'Hello') is of type <class 'tuple'> \n",
      "\n",
      "Tuple[2] =  7.2 \n",
      "\n",
      "Tuple[1:3] =  (8, 7.2) \n",
      "\n"
     ]
    }
   ],
   "source": [
    "Tuple = (3,8,7.2,\"Hello\")\n",
    "\n",
    "print(Tuple,\"is of type\",type(Tuple),\"\\n\")\n",
    "\n",
    "print(\"Tuple[2] = \", Tuple[2],'\\n')\n",
    "\n",
    "print(\"Tuple[1:3] = \", Tuple[1:3],'\\n')"
   ]
  },
  {
   "cell_type": "markdown",
   "id": "2acdf17e",
   "metadata": {},
   "source": [
    "## 5. Sets\n",
    "- formed by placing  objcets inside {}, seperated by commas\n",
    "- unordered collection of objects\n",
    "- no duplicate elements\n",
    "- immutable\n",
    "- slicing doesn't work since its unordered"
   ]
  },
  {
   "cell_type": "code",
   "execution_count": 24,
   "id": "abac79a1",
   "metadata": {},
   "outputs": [
    {
     "name": "stdout",
     "output_type": "stream",
     "text": [
      "{'Hello', 3, 4, 6.6} is of type <class 'set'> \n",
      "\n",
      "{'Hello', 3, 4, 6.6}\n"
     ]
    }
   ],
   "source": [
    "Set = {4,3,6.6,\"Hello\"}\n",
    "\n",
    "print(Set,\"is of type\",type(Set),\"\\n\")\n",
    "\n",
    "print(Set)"
   ]
  },
  {
   "cell_type": "markdown",
   "id": "661bc2ca",
   "metadata": {},
   "source": [
    "## 6. Dictionary\n",
    "- unordered collection of datavalues\n",
    "- consists of key- value pairs seperated by colon and keys seperated by comma\n",
    "- mutable\n",
    "- syntax: {key1:value1 ,key2:value2}"
   ]
  },
  {
   "cell_type": "code",
   "execution_count": 31,
   "id": "6182dc6a",
   "metadata": {},
   "outputs": [
    {
     "name": "stdout",
     "output_type": "stream",
     "text": [
      "{1: 'Hello', 2: 5.5, 3: 'World'} is of type <class 'dict'> \n",
      "\n",
      "{1: 'Hello', 2: 5.5, 3: 'World'} \n",
      "\n",
      "5.5 \n",
      "\n",
      "{1: 'Hello', 2: 5.5, 3: 'Donkey'}\n"
     ]
    }
   ],
   "source": [
    "Dict = {1:'Hello',2:5.5, 3:'World'}\n",
    "\n",
    "print(Dict,\"is of type\",type(Dict),\"\\n\")\n",
    "\n",
    "print(Dict,\"\\n\")\n",
    "\n",
    "#We can retrieve the value by using the following method:\n",
    "\n",
    "print(Dict[2],\"\\n\")\n",
    "Output: 5.5\n",
    "    \n",
    "#We can update the dictionary by following methods as well:\n",
    "\n",
    "Dict[3] = 'Donkey'\n",
    "print(Dict)"
   ]
  },
  {
   "cell_type": "code",
   "execution_count": null,
   "id": "c0738507",
   "metadata": {},
   "outputs": [],
   "source": []
  }
 ],
 "metadata": {
  "kernelspec": {
   "display_name": "Python 3 (ipykernel)",
   "language": "python",
   "name": "python3"
  },
  "language_info": {
   "codemirror_mode": {
    "name": "ipython",
    "version": 3
   },
   "file_extension": ".py",
   "mimetype": "text/x-python",
   "name": "python",
   "nbconvert_exporter": "python",
   "pygments_lexer": "ipython3",
   "version": "3.9.13"
  }
 },
 "nbformat": 4,
 "nbformat_minor": 5
}
