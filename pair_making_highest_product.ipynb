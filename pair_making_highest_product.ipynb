{
 "cells": [
  {
   "cell_type": "code",
   "execution_count": 1,
   "id": "9a4853ac",
   "metadata": {},
   "outputs": [
    {
     "name": "stdout",
     "output_type": "stream",
     "text": [
      "Enter the number of elements: 3\n",
      "4\n",
      "7\n",
      "8\n",
      "The highest product is:\n",
      "56\n",
      "The pair of integers giving the highest product are:\n",
      "7 8\n"
     ]
    }
   ],
   "source": [
    "#Program to find the pair of highest product from a given array of integers\n",
    "a1=[]\n",
    "n=int(input(\"Enter the number of elements: \"))\n",
    "for i in range(0,n):\n",
    "    m=int(input())\n",
    "    a1.append(m)\n",
    "num1=a1[0]\n",
    "num2=a1[1]\n",
    "for i in range(0,len(a1)):\n",
    "    for j in range(i+1,len(a1)):\n",
    "        if a1[i]*a1[j]>num1*num2:\n",
    "            num1=a1[i]\n",
    "            num2=a1[j]\n",
    "highest_sum=num1*num2\n",
    "print(\"The highest product is:\")\n",
    "print(highest_sum)\n",
    "print(\"The pair of integers giving the highest product are:\")\n",
    "print(num1,num2)"
   ]
  }
 ],
 "metadata": {
  "kernelspec": {
   "display_name": "Python 3 (ipykernel)",
   "language": "python",
   "name": "python3"
  },
  "language_info": {
   "codemirror_mode": {
    "name": "ipython",
    "version": 3
   },
   "file_extension": ".py",
   "mimetype": "text/x-python",
   "name": "python",
   "nbconvert_exporter": "python",
   "pygments_lexer": "ipython3",
   "version": "3.9.13"
  }
 },
 "nbformat": 4,
 "nbformat_minor": 5
}
