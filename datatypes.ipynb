{
 "cells": [
  {
   "cell_type": "markdown",
   "id": "6786bacc",
   "metadata": {},
   "source": [
    "## Datatypes in Python"
   ]
  },
  {
   "cell_type": "markdown",
   "id": "772e81a7",
   "metadata": {},
   "source": [
    "### Numeric, Sequence, Boolean, Set, Dictionary"
   ]
  },
  {
   "cell_type": "markdown",
   "id": "3a38e199",
   "metadata": {},
   "source": [
    "### Numeric - int, float, complex"
   ]
  },
  {
   "cell_type": "code",
   "execution_count": 1,
   "id": "2eb05a45",
   "metadata": {},
   "outputs": [
    {
     "name": "stdout",
     "output_type": "stream",
     "text": [
      "Type of a <class 'int'>\n",
      "Type of b <class 'float'>\n",
      "Type of c <class 'complex'>\n"
     ]
    }
   ],
   "source": [
    "#entering values and finding its datatype\n",
    "a=25\n",
    "b=56.9\n",
    "c=3+7j\n",
    "print(\"Type of a\",type(a))\n",
    "print(\"Type of b\",type(b))\n",
    "print(\"Type of c\",type(c))"
   ]
  },
  {
   "cell_type": "markdown",
   "id": "54150676",
   "metadata": {},
   "source": [
    "### Sequence - string, list, tuple"
   ]
  },
  {
   "cell_type": "markdown",
   "id": "af34fcb7",
   "metadata": {},
   "source": [
    "### String"
   ]
  },
  {
   "cell_type": "code",
   "execution_count": 2,
   "id": "b996ff9d",
   "metadata": {},
   "outputs": [
    {
     "name": "stdout",
     "output_type": "stream",
     "text": [
      "Hello\n",
      "<class 'str'>\n",
      "What's your name?\n",
      "<class 'str'>\n",
      "How was \"Rose day\"?\n",
      "<class 'str'>\n",
      "\n",
      "            STAY\n",
      "                HAPPY\n",
      "        \n",
      "<class 'str'>\n"
     ]
    }
   ],
   "source": [
    "#string with single quote\n",
    "string1='Hello'\n",
    "print(string1)\n",
    "print(type(string1))\n",
    "\n",
    "#string with double quote\n",
    "string2=\"What's your name?\"\n",
    "print(string2)\n",
    "print(type(string2))\n",
    "\n",
    "#string with triple quote\n",
    "string3='''How was \"Rose day\"?'''\n",
    "print(string3)\n",
    "print(type(string3))\n",
    "\n",
    "#multiline string\n",
    "string4='''\n",
    "            STAY\n",
    "                HAPPY\n",
    "        '''\n",
    "print(string4)\n",
    "print(type(string4))"
   ]
  },
  {
   "cell_type": "code",
   "execution_count": 26,
   "id": "8ee6556c",
   "metadata": {},
   "outputs": [
    {
     "name": "stdout",
     "output_type": "stream",
     "text": [
      "HAPPY\n",
      "DA\n",
      "Y\n"
     ]
    }
   ],
   "source": [
    "string=\"HAPPY INDEPENDENCE DAY\"\n",
    "\n",
    "#prints 0,1,2,3,4\n",
    "print(string[0:5])\n",
    "\n",
    "#prints -3,-2 from the last\n",
    "print(string[-3:-1])\n",
    "\n",
    "#prints last element\n",
    "print(string[-1])"
   ]
  },
  {
   "cell_type": "markdown",
   "id": "30ff71b3",
   "metadata": {},
   "source": [
    "### List"
   ]
  },
  {
   "cell_type": "code",
   "execution_count": 25,
   "id": "af9fa72f",
   "metadata": {},
   "outputs": [
    {
     "name": "stdout",
     "output_type": "stream",
     "text": [
      "Blank list:  []\n",
      "\n",
      "List using string:  ['Apple seed']\n",
      "\n",
      "List with multiple values:  ['Apple', 'Orange', 'Banana']\n",
      "Third element of this list is  Banana\n",
      "\n",
      "Multi-dimensional list:  [['Apple', 'Orange'], ['Carrot', 'Tomato']]\n"
     ]
    }
   ],
   "source": [
    "#creating blank list\n",
    "list1=[]\n",
    "print(\"Blank list: \",list1)\n",
    "\n",
    "#creating list using string\n",
    "list2=[\"Apple seed\"]\n",
    "print(\"\\nList using string: \",list2)\n",
    "\n",
    "#creating list with more than one members\n",
    "list3=[\"Apple\",\"Orange\",\"Banana\"]\n",
    "print(\"\\nList with multiple values: \",list3)\n",
    "\n",
    "#printing a specific value from the list\n",
    "print(\"Third element of this list is \",list3[2])\n",
    "\n",
    "#creating multidimensional list\n",
    "list4=[[\"Apple\",\"Orange\"],[\"Carrot\",\"Tomato\"]]\n",
    "print(\"\\nMulti-dimensional list: \",list4)"
   ]
  },
  {
   "cell_type": "code",
   "execution_count": null,
   "id": "438c6979",
   "metadata": {},
   "outputs": [],
   "source": []
  }
 ],
 "metadata": {
  "kernelspec": {
   "display_name": "Python 3 (ipykernel)",
   "language": "python",
   "name": "python3"
  },
  "language_info": {
   "codemirror_mode": {
    "name": "ipython",
    "version": 3
   },
   "file_extension": ".py",
   "mimetype": "text/x-python",
   "name": "python",
   "nbconvert_exporter": "python",
   "pygments_lexer": "ipython3",
   "version": "3.9.13"
  }
 },
 "nbformat": 4,
 "nbformat_minor": 5
}
