{
 "cells": [
  {
   "cell_type": "markdown",
   "id": "b696e196",
   "metadata": {},
   "source": [
    "## ERRORS IN PYTHON\n",
    "\n",
    "-  Syntax Error<br>\n",
    "-  Runtime Error<br>\n",
    "-  Logical Error<br>"
   ]
  },
  {
   "cell_type": "markdown",
   "id": "7176fc85",
   "metadata": {},
   "source": [
    "### Syntax Error\n",
    "When the code is not syntatically right, syntax error is displayed"
   ]
  },
  {
   "cell_type": "code",
   "execution_count": 3,
   "id": "f908f647",
   "metadata": {},
   "outputs": [
    {
     "ename": "SyntaxError",
     "evalue": "invalid syntax (2780558866.py, line 3)",
     "output_type": "error",
     "traceback": [
      "\u001b[1;36m  File \u001b[1;32m\"C:\\Users\\ASUS\\AppData\\Local\\Temp\\ipykernel_3144\\2780558866.py\"\u001b[1;36m, line \u001b[1;32m3\u001b[0m\n\u001b[1;33m    if(a>50)\u001b[0m\n\u001b[1;37m            ^\u001b[0m\n\u001b[1;31mSyntaxError\u001b[0m\u001b[1;31m:\u001b[0m invalid syntax\n"
     ]
    }
   ],
   "source": [
    "#syntax error\n",
    "a=100\n",
    "if(a>50)\n",
    "    print(\"a is greater than 50\")\n",
    "#here, SyntaxError is displayed because semicolon is not used after if statement. "
   ]
  },
  {
   "cell_type": "markdown",
   "id": "314fdf1c",
   "metadata": {},
   "source": [
    "### Runtime Errors or Exceptions\n",
    "A runtime error in a program is an error that occurs during program execution.\n",
    "Eg. ZeroDivisionError, IndexError, TypeError, etc."
   ]
  },
  {
   "cell_type": "code",
   "execution_count": 4,
   "id": "e2cab81c",
   "metadata": {},
   "outputs": [
    {
     "ename": "ZeroDivisionError",
     "evalue": "division by zero",
     "output_type": "error",
     "traceback": [
      "\u001b[1;31m---------------------------------------------------------------------------\u001b[0m",
      "\u001b[1;31mZeroDivisionError\u001b[0m                         Traceback (most recent call last)",
      "\u001b[1;32m~\\AppData\\Local\\Temp\\ipykernel_3144\\1257304932.py\u001b[0m in \u001b[0;36m<module>\u001b[1;34m\u001b[0m\n\u001b[0;32m      1\u001b[0m \u001b[1;31m#runtime error\u001b[0m\u001b[1;33m\u001b[0m\u001b[1;33m\u001b[0m\u001b[0m\n\u001b[1;32m----> 2\u001b[1;33m \u001b[0mprint\u001b[0m\u001b[1;33m(\u001b[0m\u001b[1;36m3\u001b[0m\u001b[1;33m/\u001b[0m\u001b[1;36m0\u001b[0m\u001b[1;33m)\u001b[0m\u001b[1;33m\u001b[0m\u001b[1;33m\u001b[0m\u001b[0m\n\u001b[0m",
      "\u001b[1;31mZeroDivisionError\u001b[0m: division by zero"
     ]
    }
   ],
   "source": [
    "#runtime error\n",
    "print(3/0)\n",
    "#Division by zero is not defined, so ZeroDivisionError which is a RuntimeError is being displayed."
   ]
  },
  {
   "cell_type": "markdown",
   "id": "82f64789",
   "metadata": {},
   "source": [
    "### Logical error\n",
    "The are most difficult errors to fix as they don't display any error, but the code does not run as expected"
   ]
  },
  {
   "cell_type": "code",
   "execution_count": 7,
   "id": "5bc5e0ac",
   "metadata": {},
   "outputs": [
    {
     "name": "stdout",
     "output_type": "stream",
     "text": [
      "This is a program to add two numbers\n",
      "Enter the number a: 7\n",
      "Enter the number b: 8\n",
      "Sum of 7 and 8 is 56\n"
     ]
    }
   ],
   "source": [
    "#logical error\n",
    "print(\"This is a program to add two numbers\")\n",
    "a=int(input(\"Enter the number a: \"))\n",
    "b=int(input(\"Enter the number b: \"))\n",
    "print(f'Sum of {a} and {b} is {a*b}')\n",
    "#here, * is used instead of + for addition, so the answer displayed is wrong. This is how a logical error happens."
   ]
  }
 ],
 "metadata": {
  "kernelspec": {
   "display_name": "Python 3 (ipykernel)",
   "language": "python",
   "name": "python3"
  },
  "language_info": {
   "codemirror_mode": {
    "name": "ipython",
    "version": 3
   },
   "file_extension": ".py",
   "mimetype": "text/x-python",
   "name": "python",
   "nbconvert_exporter": "python",
   "pygments_lexer": "ipython3",
   "version": "3.9.13"
  }
 },
 "nbformat": 4,
 "nbformat_minor": 5
}
