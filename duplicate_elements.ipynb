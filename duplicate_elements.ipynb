{
 "cells": [
  {
   "cell_type": "code",
   "execution_count": 1,
   "id": "949734db",
   "metadata": {},
   "outputs": [
    {
     "name": "stdout",
     "output_type": "stream",
     "text": [
      "Enter the number of elements: 7\n",
      "1\n",
      "4\n",
      "2\n",
      "5\n",
      "3\n",
      "2\n",
      "6\n",
      "The array is: \n",
      "[1, 4, 2, 5, 3, 2, 6]\n",
      "The repeated element is: \n",
      "[2]\n"
     ]
    }
   ],
   "source": [
    "#Program to find duplicate elements in a given array\n",
    "a1=[]\n",
    "a2=[]\n",
    "n=int(input(\"Enter the number of elements: \"))\n",
    "for i in range(0,n):\n",
    "    a=int(input())\n",
    "    a1.append(a)\n",
    "print(\"The array is: \")\n",
    "print(a1)\n",
    "for i in range(0,n):\n",
    "    for j in range(i+1,n):\n",
    "        if(a1[i]==a1[j]):\n",
    "            a2.append(a1[j])\n",
    "if len(a2)>1:\n",
    "    print(\"The repeated elements are: \")\n",
    "    print(a2)\n",
    "elif len(a2)==1:\n",
    "    print(\"The repeated element is: \")\n",
    "    print(a2)\n",
    "else:\n",
    "    print(\"There are no repeated elements\")"
   ]
  }
 ],
 "metadata": {
  "kernelspec": {
   "display_name": "Python 3 (ipykernel)",
   "language": "python",
   "name": "python3"
  },
  "language_info": {
   "codemirror_mode": {
    "name": "ipython",
    "version": 3
   },
   "file_extension": ".py",
   "mimetype": "text/x-python",
   "name": "python",
   "nbconvert_exporter": "python",
   "pygments_lexer": "ipython3",
   "version": "3.9.13"
  }
 },
 "nbformat": 4,
 "nbformat_minor": 5
}
