{
 "cells": [
  {
   "cell_type": "markdown",
   "id": "b363620f",
   "metadata": {},
   "source": [
    "### Importing numpy"
   ]
  },
  {
   "cell_type": "code",
   "execution_count": 2,
   "id": "08648026",
   "metadata": {},
   "outputs": [],
   "source": [
    "import numpy as np"
   ]
  },
  {
   "cell_type": "markdown",
   "id": "c30c0183",
   "metadata": {},
   "source": [
    "### Creating array using numpy"
   ]
  },
  {
   "cell_type": "markdown",
   "id": "413db91d",
   "metadata": {},
   "source": [
    "**np.array()**<br>\n",
    "creates array with values inside the bracket (it can be list, array, tuple, etc)"
   ]
  },
  {
   "cell_type": "code",
   "execution_count": 3,
   "id": "bd694974",
   "metadata": {},
   "outputs": [
    {
     "data": {
      "text/plain": [
       "array([2, 3, 5])"
      ]
     },
     "execution_count": 3,
     "metadata": {},
     "output_type": "execute_result"
    }
   ],
   "source": [
    "np.array([2,3,5])"
   ]
  },
  {
   "cell_type": "markdown",
   "id": "d2096fc6",
   "metadata": {},
   "source": [
    "**np.zeroes(a,b)**<br>\n",
    "create array with a rows and b columns with all values 0.0 (default is float)"
   ]
  },
  {
   "cell_type": "code",
   "execution_count": 4,
   "id": "7a0b7bf4",
   "metadata": {},
   "outputs": [
    {
     "data": {
      "text/plain": [
       "array([0., 0., 0.])"
      ]
     },
     "execution_count": 4,
     "metadata": {},
     "output_type": "execute_result"
    }
   ],
   "source": [
    "np.zeros(3)"
   ]
  },
  {
   "cell_type": "markdown",
   "id": "f1979540",
   "metadata": {},
   "source": [
    "**np.ones(a,b)**<br>\n",
    "create array with a rows and b columns with all values 1.0 (default is float)"
   ]
  },
  {
   "cell_type": "code",
   "execution_count": 5,
   "id": "37e1d51a",
   "metadata": {},
   "outputs": [
    {
     "data": {
      "text/plain": [
       "array([[1., 1., 1., 1., 1.],\n",
       "       [1., 1., 1., 1., 1.]])"
      ]
     },
     "execution_count": 5,
     "metadata": {},
     "output_type": "execute_result"
    }
   ],
   "source": [
    "np.ones((2,5))"
   ]
  },
  {
   "cell_type": "markdown",
   "id": "4fdfab84",
   "metadata": {},
   "source": [
    "**np.full((a,b),y)**<br> \n",
    "create array with a rows and b column with all values y"
   ]
  },
  {
   "cell_type": "code",
   "execution_count": 6,
   "id": "de7a7563",
   "metadata": {},
   "outputs": [
    {
     "name": "stdout",
     "output_type": "stream",
     "text": [
      "[[0.5 0.5 0.5 0.5 0.5 0.5 0.5 0.5 0.5 0.5 0.5 0.5 0.5]\n",
      " [0.5 0.5 0.5 0.5 0.5 0.5 0.5 0.5 0.5 0.5 0.5 0.5 0.5]\n",
      " [0.5 0.5 0.5 0.5 0.5 0.5 0.5 0.5 0.5 0.5 0.5 0.5 0.5]\n",
      " [0.5 0.5 0.5 0.5 0.5 0.5 0.5 0.5 0.5 0.5 0.5 0.5 0.5]\n",
      " [0.5 0.5 0.5 0.5 0.5 0.5 0.5 0.5 0.5 0.5 0.5 0.5 0.5]\n",
      " [0.5 0.5 0.5 0.5 0.5 0.5 0.5 0.5 0.5 0.5 0.5 0.5 0.5]\n",
      " [0.5 0.5 0.5 0.5 0.5 0.5 0.5 0.5 0.5 0.5 0.5 0.5 0.5]]\n"
     ]
    }
   ],
   "source": [
    "x=np.full((7,13),0.5)\n",
    "print(x)"
   ]
  },
  {
   "cell_type": "markdown",
   "id": "99443ff7",
   "metadata": {},
   "source": [
    "### Attributes of numpy array\n",
    "**arrayname.ndim**<br>\n",
    "dimensions of array<br>\n",
    "**arrayname.shape**<br>\n",
    "number of rows and columns (rows,columns)<br>\n",
    "**arrayname.size**<br>\n",
    "number of elements of array<br>\n",
    "**arrayname.itemsize**<br>\n",
    "size of element in array<br>\n",
    "**arrayname.dtype**<br>\n",
    "datatype of element in array<br>\n",
    "**arrayname.nbytes**<br>\n",
    "number of bytes occupied by the array<br>"
   ]
  },
  {
   "cell_type": "code",
   "execution_count": 12,
   "id": "292cf988",
   "metadata": {},
   "outputs": [
    {
     "name": "stdout",
     "output_type": "stream",
     "text": [
      "Array: \n",
      " [[2 3 6 7]\n",
      " [5 2 1 9]]\n",
      "Dimensions:  2\n",
      "No. of rows and columns:  (2, 4)\n",
      "Size of array:  8\n",
      "Size of item:  4\n",
      "Datatype:  int32\n",
      "No. of bytes:  32\n"
     ]
    }
   ],
   "source": [
    "x=np.array([[2,3,6,7],[5,2,1,9]])\n",
    "print(\"Array: \\n\",x)\n",
    "print(\"Dimensions: \",x.ndim)\n",
    "print(\"No. of rows and columns: \",x.shape)\n",
    "print(\"Size of array: \",x.size)\n",
    "print(\"Size of item: \",x.itemsize)\n",
    "print(\"Datatype: \",x.dtype)\n",
    "print(\"No. of bytes: \",x.nbytes)"
   ]
  },
  {
   "cell_type": "code",
   "execution_count": 14,
   "id": "4079b7ef",
   "metadata": {},
   "outputs": [
    {
     "name": "stdout",
     "output_type": "stream",
     "text": [
      "Information about memory layout of array:    C_CONTIGUOUS : True\n",
      "  F_CONTIGUOUS : False\n",
      "  OWNDATA : True\n",
      "  WRITEABLE : True\n",
      "  ALIGNED : True\n",
      "  WRITEBACKIFCOPY : False\n",
      "  UPDATEIFCOPY : False\n",
      "\n",
      "Tuple of bytes to step in each dimension when traversing an array. (16, 4)\n",
      "Python buffer object pointing to the start of the array's data. <memory at 0x000001FE5B18E790>\n",
      "Base object if memory is from some other object. None\n"
     ]
    }
   ],
   "source": [
    "print(\"Information about memory layout of array: \",x.flags)\n",
    "print(\"Tuple of bytes to step in each dimension when traversing an array.\",x.strides)\n",
    "print(\"Python buffer object pointing to the start of the array's data.\",x.data)\n",
    "print(\"Base object if memory is from some other object.\",x.base)"
   ]
  },
  {
   "cell_type": "code",
   "execution_count": 27,
   "id": "a7efefc1",
   "metadata": {},
   "outputs": [
    {
     "name": "stdout",
     "output_type": "stream",
     "text": [
      "Transpose: \n",
      " [[ 2.+4.j  4.+9.j]\n",
      " [ 3.+5.j  2.+6.j]\n",
      " [ 7.+8.j 22.+0.j]]\n",
      "Real part of array: \n",
      " [[ 2.  3.  7.]\n",
      " [ 4.  2. 22.]]\n",
      "Imaginary part of array: \n",
      " [[4. 5. 8.]\n",
      " [9. 6. 0.]]\n",
      "<numpy.flatiter object at 0x000001FE5B57E6E0>\n",
      "A 1-D iterator over the array <numpy.flatiter object at 0x000001FE5B548670>\n"
     ]
    }
   ],
   "source": [
    "y=np.array([[2+4j, 3+5j, 7+8j],[4+9j, 6j+2, 22]])\n",
    "print(\"Transpose: \\n\",y.T)\n",
    "print(\"Real part of array: \\n\",y.real)\n",
    "print(\"Imaginary part of array: \\n\",y.imag)\n",
    "print(\"A 1-D iterator over the array\",y.flat)"
   ]
  },
  {
   "cell_type": "markdown",
   "id": "c0ad60ae",
   "metadata": {},
   "source": [
    "### Concatenation\n",
    "\n",
    "np.concatenate((a,b),axis=)<br>\n",
    "a -> array1<br>\n",
    "b -> array2<br>\n",
    "axis=0 -> concatenate coloumnwise<br>\n",
    "axis=1 -> concatenate rowwise\n"
   ]
  },
  {
   "cell_type": "code",
   "execution_count": 3,
   "id": "41f1459f",
   "metadata": {},
   "outputs": [
    {
     "name": "stdout",
     "output_type": "stream",
     "text": [
      "Columnwise concatenation: \n",
      " [[2 3 6 4]\n",
      " [5 9 1 0]]\n",
      "Rowwise concatenation: \n",
      " [[2 3]\n",
      " [5 9]\n",
      " [6 4]\n",
      " [1 0]]\n"
     ]
    }
   ],
   "source": [
    "a=np.array([[2,3],[5,9]])\n",
    "b=np.array([[6,4],[1,0]])\n",
    "y=np.concatenate((a,b),axis=0)\n",
    "x=np.concatenate((a,b),axis=1)\n",
    "print(\"Columnwise concatenation: \\n\",x)\n",
    "print(\"Rowwise concatenation: \\n\",y)"
   ]
  },
  {
   "cell_type": "markdown",
   "id": "34882da0",
   "metadata": {},
   "source": [
    "### Transpose\n",
    "arrayname.transpose()"
   ]
  },
  {
   "cell_type": "code",
   "execution_count": 9,
   "id": "6b010021",
   "metadata": {},
   "outputs": [
    {
     "name": "stdout",
     "output_type": "stream",
     "text": [
      "Array: \n",
      " [[2 3 6 4]\n",
      " [5 9 1 0]]\n",
      "Transpose: \n",
      " [[2 5]\n",
      " [3 9]\n",
      " [6 1]\n",
      " [4 0]]\n"
     ]
    }
   ],
   "source": [
    "print(\"Array: \\n\",x)\n",
    "print(\"Transpose: \\n\",x.transpose())"
   ]
  },
  {
   "cell_type": "code",
   "execution_count": null,
   "id": "1d697703",
   "metadata": {},
   "outputs": [],
   "source": [
    "#QUESTIONS\n",
    "#random numbers in numpy follows which distribution?\n",
    "# sum,prod,meam,std,var,min,max,argmin,argmax,median\n",
    "#Significance of terms like std, var, mean, eigenvalues, eigenvectors, etc.\n",
    "#broadcasting\n"
   ]
  }
 ],
 "metadata": {
  "kernelspec": {
   "display_name": "Python 3 (ipykernel)",
   "language": "python",
   "name": "python3"
  },
  "language_info": {
   "codemirror_mode": {
    "name": "ipython",
    "version": 3
   },
   "file_extension": ".py",
   "mimetype": "text/x-python",
   "name": "python",
   "nbconvert_exporter": "python",
   "pygments_lexer": "ipython3",
   "version": "3.9.13"
  }
 },
 "nbformat": 4,
 "nbformat_minor": 5
}
