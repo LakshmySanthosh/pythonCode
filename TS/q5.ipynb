{
 "cells": [
  {
   "cell_type": "markdown",
   "id": "6ad637f0",
   "metadata": {},
   "source": [
    "## 5. Write a program to convert non-stationary time series into stationary time series."
   ]
  },
  {
   "cell_type": "code",
   "execution_count": 1,
   "id": "b6cadc15",
   "metadata": {},
   "outputs": [],
   "source": [
    "import pandas as pd\n",
    "import numpy as np\n",
    "from statsmodels.tsa.stattools import adfuller"
   ]
  },
  {
   "cell_type": "code",
   "execution_count": 2,
   "id": "6c97dd35",
   "metadata": {},
   "outputs": [],
   "source": [
    "df = pd.read_csv(\"Electric_Production.csv\")\n",
    "df.columns=['Date','data']\n",
    "df['Date'] = pd.to_datetime(df['Date'])"
   ]
  },
  {
   "cell_type": "code",
   "execution_count": 3,
   "id": "bf52e10b",
   "metadata": {},
   "outputs": [
    {
     "data": {
      "text/html": [
       "<div>\n",
       "<style scoped>\n",
       "    .dataframe tbody tr th:only-of-type {\n",
       "        vertical-align: middle;\n",
       "    }\n",
       "\n",
       "    .dataframe tbody tr th {\n",
       "        vertical-align: top;\n",
       "    }\n",
       "\n",
       "    .dataframe thead th {\n",
       "        text-align: right;\n",
       "    }\n",
       "</style>\n",
       "<table border=\"1\" class=\"dataframe\">\n",
       "  <thead>\n",
       "    <tr style=\"text-align: right;\">\n",
       "      <th></th>\n",
       "      <th>Date</th>\n",
       "      <th>data</th>\n",
       "    </tr>\n",
       "  </thead>\n",
       "  <tbody>\n",
       "    <tr>\n",
       "      <th>0</th>\n",
       "      <td>1985-01-01</td>\n",
       "      <td>72.5052</td>\n",
       "    </tr>\n",
       "    <tr>\n",
       "      <th>1</th>\n",
       "      <td>1985-02-01</td>\n",
       "      <td>70.6720</td>\n",
       "    </tr>\n",
       "    <tr>\n",
       "      <th>2</th>\n",
       "      <td>1985-03-01</td>\n",
       "      <td>62.4502</td>\n",
       "    </tr>\n",
       "    <tr>\n",
       "      <th>3</th>\n",
       "      <td>1985-04-01</td>\n",
       "      <td>57.4714</td>\n",
       "    </tr>\n",
       "    <tr>\n",
       "      <th>4</th>\n",
       "      <td>1985-05-01</td>\n",
       "      <td>55.3151</td>\n",
       "    </tr>\n",
       "  </tbody>\n",
       "</table>\n",
       "</div>"
      ],
      "text/plain": [
       "        Date     data\n",
       "0 1985-01-01  72.5052\n",
       "1 1985-02-01  70.6720\n",
       "2 1985-03-01  62.4502\n",
       "3 1985-04-01  57.4714\n",
       "4 1985-05-01  55.3151"
      ]
     },
     "execution_count": 3,
     "metadata": {},
     "output_type": "execute_result"
    }
   ],
   "source": [
    "df.head()"
   ]
  },
  {
   "cell_type": "code",
   "execution_count": 4,
   "id": "9b057356",
   "metadata": {},
   "outputs": [
    {
     "name": "stdout",
     "output_type": "stream",
     "text": [
      "Time series is non-stationary (p-value = 0.1862).\n"
     ]
    }
   ],
   "source": [
    "result = adfuller(df['data'])\n",
    "p_value = result[1]\n",
    "if p_value > 0.05:\n",
    "    print(f'Time series is non-stationary (p-value = {p_value:.4f}).')\n",
    "else:\n",
    "    print(f'Time series is stationary (p-value = {p_value:.4f}).')"
   ]
  },
  {
   "cell_type": "code",
   "execution_count": 7,
   "id": "9a0e8b5c",
   "metadata": {},
   "outputs": [],
   "source": [
    "# Perform differencing to make it stationary\n",
    "df['stationary_data'] = df['data'].diff().dropna"
   ]
  },
  {
   "cell_type": "code",
   "execution_count": null,
   "id": "c603c822",
   "metadata": {},
   "outputs": [],
   "source": [
    "# Plot of original and stationary time series\n",
    "import matplotlib.pyplot as plt\n",
    "\n",
    "plt.figure(figsize=(12, 6))\n",
    "plt.plot(df.index, df['data'], label='Original Data')\n",
    "plt.plot(df.index, df['stationary_data'], label='Stationary Data')\n",
    "plt.xlabel('Date')\n",
    "plt.ylabel('Data')\n",
    "plt.legend()\n",
    "plt.title('Original vs. Stationary Time Series')\n",
    "plt.show()\n",
    "\n",
    "# Save the stationary time series to a new CSV file\n",
    "df.to_csv('stationary_data.csv')\n"
   ]
  },
  {
   "cell_type": "code",
   "execution_count": null,
   "id": "8ca050b1",
   "metadata": {},
   "outputs": [],
   "source": [
    "df.sample(5)"
   ]
  }
 ],
 "metadata": {
  "kernelspec": {
   "display_name": "Python 3 (ipykernel)",
   "language": "python",
   "name": "python3"
  },
  "language_info": {
   "codemirror_mode": {
    "name": "ipython",
    "version": 3
   },
   "file_extension": ".py",
   "mimetype": "text/x-python",
   "name": "python",
   "nbconvert_exporter": "python",
   "pygments_lexer": "ipython3",
   "version": "3.11.5"
  }
 },
 "nbformat": 4,
 "nbformat_minor": 5
}
