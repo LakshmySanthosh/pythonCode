{
 "cells": [
  {
   "cell_type": "markdown",
   "id": "cf4327a6",
   "metadata": {},
   "source": [
    "## 10. Write a program that demonstrates how to use AIC and BIC to select the best ARIMA model for a time series dataset."
   ]
  },
  {
   "cell_type": "code",
   "execution_count": 1,
   "id": "3a93d38a",
   "metadata": {},
   "outputs": [],
   "source": [
    "import pandas as pd\n",
    "import statsmodels.api as sm\n",
    "import itertools\n",
    "import warnings\n",
    "warnings.filterwarnings(\"ignore\")"
   ]
  },
  {
   "cell_type": "code",
   "execution_count": 2,
   "id": "0d881bb3",
   "metadata": {},
   "outputs": [],
   "source": [
    "# Load the data\n",
    "data = pd.read_csv('monthly-beer-production.csv')\n",
    "data['Month'] = pd.to_datetime(data['Month'])\n",
    "data.set_index('Month', inplace=True)"
   ]
  },
  {
   "cell_type": "code",
   "execution_count": 3,
   "id": "b650f9a1",
   "metadata": {},
   "outputs": [],
   "source": [
    "# Define the range of p, d, q values\n",
    "p_values = range(0, 5)  \n",
    "d_values = range(0, 2)  \n",
    "q_values = range(0, 5)  \n",
    "\n",
    "# Generate all possible combinations of p, d, q\n",
    "orders = list(itertools.product(p_values, d_values, q_values))"
   ]
  },
  {
   "cell_type": "code",
   "execution_count": 4,
   "id": "c6c9ac60",
   "metadata": {},
   "outputs": [],
   "source": [
    "# Function to fit ARIMA model and calculate AIC and BIC\n",
    "def fit_arima(order, data):\n",
    "    p, d, q = order\n",
    "    model = sm.tsa.ARIMA(data, order=(p, d, q))\n",
    "    results = model.fit()\n",
    "    return results.aic, results.bic"
   ]
  },
  {
   "cell_type": "code",
   "execution_count": 5,
   "id": "22c03f55",
   "metadata": {},
   "outputs": [],
   "source": [
    "# Iterate through all combinations and store AIC and BIC values\n",
    "aic_bic_values = []\n",
    "for order in orders:\n",
    "    try:\n",
    "        aic, bic = fit_arima(order, data['Monthly beer production'])\n",
    "        aic_bic_values.append((order, aic, bic))\n",
    "    except:\n",
    "        continue"
   ]
  },
  {
   "cell_type": "code",
   "execution_count": 6,
   "id": "42a8cd92",
   "metadata": {},
   "outputs": [],
   "source": [
    "# Find the order with the minimum AIC and BIC\n",
    "best_order_aic = min(aic_bic_values, key=lambda x: x[1])\n",
    "best_order_bic = min(aic_bic_values, key=lambda x: x[2])"
   ]
  },
  {
   "cell_type": "code",
   "execution_count": 7,
   "id": "aab2f535",
   "metadata": {},
   "outputs": [
    {
     "name": "stdout",
     "output_type": "stream",
     "text": [
      "Best ARIMA Order (AIC): ((4, 1, 2), 3872.1836486441352, 3901.326852272378)\n",
      "Best ARIMA Order (BIC): ((4, 1, 2), 3872.1836486441352, 3901.326852272378)\n"
     ]
    }
   ],
   "source": [
    "print(f\"Best ARIMA Order (AIC): {best_order_aic}\")\n",
    "print(f\"Best ARIMA Order (BIC): {best_order_bic}\")"
   ]
  }
 ],
 "metadata": {
  "kernelspec": {
   "display_name": "Python 3 (ipykernel)",
   "language": "python",
   "name": "python3"
  },
  "language_info": {
   "codemirror_mode": {
    "name": "ipython",
    "version": 3
   },
   "file_extension": ".py",
   "mimetype": "text/x-python",
   "name": "python",
   "nbconvert_exporter": "python",
   "pygments_lexer": "ipython3",
   "version": "3.11.5"
  }
 },
 "nbformat": 4,
 "nbformat_minor": 5
}
