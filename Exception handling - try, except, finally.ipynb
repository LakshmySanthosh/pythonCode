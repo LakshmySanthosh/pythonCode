{
 "cells": [
  {
   "cell_type": "code",
   "execution_count": 6,
   "id": "36e7aae3",
   "metadata": {},
   "outputs": [
    {
     "name": "stdout",
     "output_type": "stream",
     "text": [
      "Enter the number: 7\n",
      "Multiplication table of 7 is: \n",
      "7 x 1 = 7\n",
      "7 x 2 = 14\n",
      "7 x 3 = 21\n",
      "7 x 4 = 28\n",
      "7 x 5 = 35\n",
      "7 x 6 = 42\n",
      "7 x 7 = 49\n",
      "7 x 8 = 56\n",
      "7 x 9 = 63\n",
      "7 x 10 = 70\n",
      "This is the multiplication table of 7\n",
      "End of the program\n"
     ]
    },
    {
     "data": {
      "text/plain": [
       "'   \\nhere, if I give a number input, it works \\nperfectly fine, but if I give a character \\nor string input, the program shows error \\nand stops there, the remaining code will \\nnot run\\n'"
      ]
     },
     "execution_count": 6,
     "metadata": {},
     "output_type": "execute_result"
    }
   ],
   "source": [
    "a=input(\"Enter the number: \")\n",
    "\n",
    "print(f\"Multiplication table of {a} is: \")\n",
    "\n",
    "for i in range(1,11):\n",
    "    print(f\"{int(a)} x {i} = {int(a)*i}\")\n",
    "    \n",
    "print(f\"This is the multiplication table of {a}\")\n",
    "print(\"End of the program\")\n",
    "\n",
    "# here, if I give a number input, it works \n",
    "# perfectly fine, but if I give a character \n",
    "# or string input, the program shows error \n",
    "# and stops there, the remaining code will \n",
    "# not run\n",
    "\n"
   ]
  },
  {
   "cell_type": "code",
   "execution_count": 18,
   "id": "f23eabe6",
   "metadata": {},
   "outputs": [
    {
     "name": "stdout",
     "output_type": "stream",
     "text": [
      "Enter the number: t\n",
      "Multiplication table of t is: \n",
      "\n",
      "Invalid input\n",
      "We used exeption handling in this program\n",
      "\n",
      "This is the multiplication table of t\n",
      "End of the program\n"
     ]
    }
   ],
   "source": [
    "#In cases like above, exeption handling is used\n",
    "a=input(\"Enter the number: \")\n",
    "\n",
    "print(f\"Multiplication table of {a} is: \\n\")\n",
    "\n",
    "#try contains the part of code which we wants to execute\n",
    "try:\n",
    "    for i in range(1,11):\n",
    "        print(f\"{int(a)} x {i} = {int(a)*i}\")\n",
    "        \n",
    "#except contains the error which we want to ignore while running the code,\n",
    "#we can also make the program in such a way as to print something when \n",
    "#there is error. This block is executed only when the try block fails\n",
    "except:\n",
    "    print(\"Invalid input\")\n",
    "\n",
    "#statemnets given in finally block are executed irrespective of if the try block runs or not\n",
    "finally:\n",
    "    print(\"We used exeption handling in this program\")\n",
    "    \n",
    "print(f\"\\nThis is the multiplication table of {a}\")\n",
    "print(\"End of the program\")"
   ]
  },
  {
   "cell_type": "code",
   "execution_count": null,
   "id": "d2be82f6",
   "metadata": {},
   "outputs": [],
   "source": []
  }
 ],
 "metadata": {
  "kernelspec": {
   "display_name": "Python 3 (ipykernel)",
   "language": "python",
   "name": "python3"
  },
  "language_info": {
   "codemirror_mode": {
    "name": "ipython",
    "version": 3
   },
   "file_extension": ".py",
   "mimetype": "text/x-python",
   "name": "python",
   "nbconvert_exporter": "python",
   "pygments_lexer": "ipython3",
   "version": "3.9.13"
  }
 },
 "nbformat": 4,
 "nbformat_minor": 5
}
