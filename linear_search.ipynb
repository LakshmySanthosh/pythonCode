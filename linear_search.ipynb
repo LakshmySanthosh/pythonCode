{
 "cells": [
  {
   "cell_type": "code",
   "execution_count": 1,
   "id": "050c3c8c",
   "metadata": {},
   "outputs": [
    {
     "name": "stdout",
     "output_type": "stream",
     "text": [
      "Enter the number of elements of the array: 5\n",
      "Enter the elements: 1\n",
      "Enter the elements: 2\n",
      "Enter the elements: 3\n",
      "Enter the elements: 4\n",
      "Enter the elements: 5\n",
      "The array is: \n",
      "[1, 2, 3, 4, 5]\n",
      "Enter the element to search: 4\n",
      "The element is found at position 4\n"
     ]
    }
   ],
   "source": [
    "#Linear search\n",
    "\n",
    "#array input\n",
    "a1=[]\n",
    "n=int(input(\"Enter the number of elements of the array: \"))\n",
    "for i in range(0,n):\n",
    "    a=int(input(\"Enter the elements: \"))\n",
    "    a1.append(a)\n",
    "print(\"The array is: \")\n",
    "print(a1)\n",
    "\n",
    "#searching for the element\n",
    "m=int(input(\"Enter the element to search: \"))\n",
    "for i in range(0,len(a1)):\n",
    "    if m==a1[i]:\n",
    "        f=1\n",
    "        break;\n",
    "    else: \n",
    "        f=0\n",
    "        \n",
    "#printing output\n",
    "if (f==1):\n",
    "    print(f\"The element is found at position {i+1}\")\n",
    "\n",
    "else:\n",
    "    print(\"The element is not found\")\n"
   ]
  }
 ],
 "metadata": {
  "kernelspec": {
   "display_name": "Python 3 (ipykernel)",
   "language": "python",
   "name": "python3"
  },
  "language_info": {
   "codemirror_mode": {
    "name": "ipython",
    "version": 3
   },
   "file_extension": ".py",
   "mimetype": "text/x-python",
   "name": "python",
   "nbconvert_exporter": "python",
   "pygments_lexer": "ipython3",
   "version": "3.9.13"
  }
 },
 "nbformat": 4,
 "nbformat_minor": 5
}
