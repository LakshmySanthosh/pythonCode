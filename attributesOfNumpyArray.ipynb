{
 "cells": [
  {
   "cell_type": "markdown",
   "id": "99754174",
   "metadata": {},
   "source": [
    "# Attributes of numpy array"
   ]
  },
  {
   "cell_type": "code",
   "execution_count": 35,
   "id": "973c037d",
   "metadata": {},
   "outputs": [],
   "source": [
    "from numpy import *\n",
    "a=array([[1,2,3],[5,6,7]])"
   ]
  },
  {
   "cell_type": "markdown",
   "id": "6d692b04",
   "metadata": {},
   "source": [
    "### 1. a.ndim"
   ]
  },
  {
   "cell_type": "code",
   "execution_count": 36,
   "id": "03c6b4cc",
   "metadata": {},
   "outputs": [
    {
     "name": "stdout",
     "output_type": "stream",
     "text": [
      "2\n"
     ]
    }
   ],
   "source": [
    "# prints number of dimensions of array\n",
    "b=a.ndim\n",
    "print(b)"
   ]
  },
  {
   "cell_type": "markdown",
   "id": "88e63e5f",
   "metadata": {},
   "source": [
    "### 2. a.shape"
   ]
  },
  {
   "cell_type": "code",
   "execution_count": 37,
   "id": "cd34e712",
   "metadata": {},
   "outputs": [
    {
     "name": "stdout",
     "output_type": "stream",
     "text": [
      "(2, 3)\n"
     ]
    }
   ],
   "source": [
    "# prints number of rows and columns of array\n",
    "b=a.shape\n",
    "print(b)"
   ]
  },
  {
   "cell_type": "markdown",
   "id": "950142c0",
   "metadata": {},
   "source": [
    "### 3. a.itemsize"
   ]
  },
  {
   "cell_type": "code",
   "execution_count": 38,
   "id": "bc947ef9",
   "metadata": {},
   "outputs": [
    {
     "name": "stdout",
     "output_type": "stream",
     "text": [
      "4\n"
     ]
    }
   ],
   "source": [
    "# prints size of element(int=4,float=8)\n",
    "b=a.itemsize\n",
    "print(b)"
   ]
  },
  {
   "cell_type": "markdown",
   "id": "04051528",
   "metadata": {},
   "source": [
    "### 4. a.size"
   ]
  },
  {
   "cell_type": "code",
   "execution_count": 39,
   "id": "6c038912",
   "metadata": {},
   "outputs": [
    {
     "name": "stdout",
     "output_type": "stream",
     "text": [
      "6\n"
     ]
    }
   ],
   "source": [
    "# prints no of elements in array\n",
    "b=a.size\n",
    "print(b)"
   ]
  },
  {
   "cell_type": "markdown",
   "id": "6d8d0e61",
   "metadata": {},
   "source": [
    "### 5. a.dtype"
   ]
  },
  {
   "cell_type": "code",
   "execution_count": 40,
   "id": "5e556189",
   "metadata": {},
   "outputs": [
    {
     "name": "stdout",
     "output_type": "stream",
     "text": [
      "int32\n"
     ]
    }
   ],
   "source": [
    "# prints the datatype of elements in array\n",
    "b=a.dtype\n",
    "print(b)"
   ]
  },
  {
   "cell_type": "markdown",
   "id": "f25ad6f8",
   "metadata": {},
   "source": [
    "### 6. a.nbytes"
   ]
  },
  {
   "cell_type": "code",
   "execution_count": 41,
   "id": "ad84d0b8",
   "metadata": {},
   "outputs": [
    {
     "name": "stdout",
     "output_type": "stream",
     "text": [
      "24\n"
     ]
    }
   ],
   "source": [
    "# prints the num of bytes occupied by the whole array (here 4*8)\n",
    "b=a.nbytes\n",
    "print(b)"
   ]
  },
  {
   "cell_type": "code",
   "execution_count": null,
   "id": "c6f3853b",
   "metadata": {},
   "outputs": [],
   "source": []
  },
  {
   "cell_type": "code",
   "execution_count": null,
   "id": "04241d31",
   "metadata": {},
   "outputs": [],
   "source": []
  },
  {
   "cell_type": "code",
   "execution_count": null,
   "id": "6df17ad8",
   "metadata": {},
   "outputs": [],
   "source": []
  }
 ],
 "metadata": {
  "kernelspec": {
   "display_name": "Python 3 (ipykernel)",
   "language": "python",
   "name": "python3"
  },
  "language_info": {
   "codemirror_mode": {
    "name": "ipython",
    "version": 3
   },
   "file_extension": ".py",
   "mimetype": "text/x-python",
   "name": "python",
   "nbconvert_exporter": "python",
   "pygments_lexer": "ipython3",
   "version": "3.9.13"
  }
 },
 "nbformat": 4,
 "nbformat_minor": 5
}
